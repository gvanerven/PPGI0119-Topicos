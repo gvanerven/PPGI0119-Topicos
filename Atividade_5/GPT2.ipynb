{
 "cells": [
  {
   "cell_type": "code",
   "execution_count": 1,
   "metadata": {},
   "outputs": [],
   "source": [
    "import torch\n",
    "import torch.nn as nn\n",
    "import tiktoken\n",
    "from transformers import GPT2LMHeadModel, GPT2Tokenizer\n",
    "import re\n"
   ]
  },
  {
   "cell_type": "code",
   "execution_count": 2,
   "metadata": {},
   "outputs": [],
   "source": [
    "device = torch.device(\"cuda\" if torch.cuda.is_available() else \"cpu\")\n",
    "GPT_CONFIG_124M = {\n",
    "    \"vocab_size\": 50257,    # Vocabulary size\n",
    "    \"context_length\": 1024, # Context length\n",
    "    \"emb_dim\": 768,         # Embedding dimension\n",
    "    \"n_heads\": 12,          # Number of attention heads\n",
    "    \"n_layers\": 12,         # Number of layers\n",
    "    \"drop_rate\": 0.1,       # Dropout rate\n",
    "    \"qkv_bias\": True        # Query-Key-Value bias\n",
    "}"
   ]
  },
  {
   "cell_type": "code",
   "execution_count": 3,
   "metadata": {},
   "outputs": [
    {
     "data": {
      "text/plain": [
       "<torch._C.Generator at 0x7fcd64830b50>"
      ]
     },
     "execution_count": 3,
     "metadata": {},
     "output_type": "execute_result"
    }
   ],
   "source": [
    "torch.manual_seed(123)"
   ]
  },
  {
   "cell_type": "code",
   "execution_count": 4,
   "metadata": {},
   "outputs": [],
   "source": [
    "class MultiHeadAttention(nn.Module):\n",
    "    def __init__(self, d_in, d_out, context_length, dropout, num_heads, qkv_bias=False):\n",
    "        super().__init__()\n",
    "        assert (d_out % num_heads == 0), \\\n",
    "            \"d_out must be divisible by num_heads\"\n",
    "\n",
    "        self.d_out = d_out\n",
    "        self.num_heads = num_heads\n",
    "        self.head_dim = d_out // num_heads # Reduce the projection dim to match desired output dim\n",
    "\n",
    "        self.W_query = nn.Linear(d_in, d_out, bias=qkv_bias)\n",
    "        self.W_key = nn.Linear(d_in, d_out, bias=qkv_bias)\n",
    "        self.W_value = nn.Linear(d_in, d_out, bias=qkv_bias)\n",
    "        self.out_proj = nn.Linear(d_out, d_out)  # Linear layer to combine head outputs\n",
    "        self.dropout = nn.Dropout(dropout)\n",
    "        self.register_buffer(\n",
    "            \"mask\",\n",
    "            torch.triu(torch.ones(context_length, context_length), diagonal=1)\n",
    "        )\n",
    "\n",
    "    def forward(self, x):\n",
    "        b, num_tokens, d_in = x.shape\n",
    "\n",
    "        keys = self.W_key(x) # Shape: (b, num_tokens, d_out)\n",
    "        queries = self.W_query(x)\n",
    "        values = self.W_value(x)\n",
    "\n",
    "        # We implicitly split the matrix by adding a `num_heads` dimension\n",
    "        # Unroll last dim: (b, num_tokens, d_out) -> (b, num_tokens, num_heads, head_dim)\n",
    "        keys = keys.view(b, num_tokens, self.num_heads, self.head_dim) \n",
    "        values = values.view(b, num_tokens, self.num_heads, self.head_dim)\n",
    "        queries = queries.view(b, num_tokens, self.num_heads, self.head_dim)\n",
    "\n",
    "        # Transpose: (b, num_tokens, num_heads, head_dim) -> (b, num_heads, num_tokens, head_dim)\n",
    "        keys = keys.transpose(1, 2)\n",
    "        queries = queries.transpose(1, 2)\n",
    "        values = values.transpose(1, 2)\n",
    "\n",
    "        # Compute scaled dot-product attention (aka self-attention) with a causal mask\n",
    "        attn_scores = queries @ keys.transpose(2, 3)  # Dot product for each head\n",
    "\n",
    "        # Original mask truncated to the number of tokens and converted to boolean\n",
    "        mask_bool = self.mask.bool()[:num_tokens, :num_tokens]\n",
    "\n",
    "        # Use the mask to fill attention scores\n",
    "        attn_scores.masked_fill_(mask_bool, -torch.inf)\n",
    "        \n",
    "        attn_weights = torch.softmax(attn_scores / keys.shape[-1]**0.5, dim=-1)\n",
    "        attn_weights = self.dropout(attn_weights)\n",
    "\n",
    "        # Shape: (b, num_tokens, num_heads, head_dim)\n",
    "        context_vec = (attn_weights @ values).transpose(1, 2) \n",
    "        \n",
    "        # Combine heads, where self.d_out = self.num_heads * self.head_dim\n",
    "        context_vec = context_vec.contiguous().view(b, num_tokens, self.d_out)\n",
    "        context_vec = self.out_proj(context_vec) # optional projection\n",
    "\n",
    "        return context_vec\n"
   ]
  },
  {
   "cell_type": "code",
   "execution_count": 5,
   "metadata": {},
   "outputs": [],
   "source": [
    "class LayerNorm(nn.Module):\n",
    "    def __init__(self, emb_dim):\n",
    "        super().__init__()\n",
    "        self.eps = 1e-5\n",
    "        self.scale = nn.Parameter(torch.ones(emb_dim))\n",
    "        self.shift = nn.Parameter(torch.zeros(emb_dim))\n",
    "\n",
    "    def forward(self, x):\n",
    "        mean = x.mean(dim=-1, keepdim=True)\n",
    "        var = x.var(dim=-1, keepdim=True, unbiased=False)\n",
    "        norm_x = (x - mean) / torch.sqrt(var + self.eps)\n",
    "        return self.scale * norm_x + self.shift"
   ]
  },
  {
   "cell_type": "code",
   "execution_count": 6,
   "metadata": {},
   "outputs": [],
   "source": [
    "class GELU(nn.Module):\n",
    "    def __init__(self):\n",
    "        super().__init__()\n",
    "\n",
    "    def forward(self, x):\n",
    "        return 0.5 * x * (1 + torch.tanh(\n",
    "            torch.sqrt(torch.tensor(2.0 / torch.pi)) * \n",
    "            (x + 0.044715 * torch.pow(x, 3))\n",
    "        ))"
   ]
  },
  {
   "cell_type": "code",
   "execution_count": 7,
   "metadata": {},
   "outputs": [],
   "source": [
    "class FeedForward(nn.Module):\n",
    "    def __init__(self, cfg):\n",
    "        super().__init__()\n",
    "        self.layers = nn.Sequential(\n",
    "            nn.Linear(cfg[\"emb_dim\"], 4 * cfg[\"emb_dim\"]),\n",
    "            GELU(),\n",
    "            nn.Linear(4 * cfg[\"emb_dim\"], cfg[\"emb_dim\"]),\n",
    "        )\n",
    "\n",
    "    def forward(self, x):\n",
    "        return self.layers(x)"
   ]
  },
  {
   "cell_type": "code",
   "execution_count": 8,
   "metadata": {},
   "outputs": [],
   "source": [
    "class TransformerBlock(nn.Module):\n",
    "    def __init__(self, cfg):\n",
    "        super().__init__()\n",
    "        self.att = MultiHeadAttention(\n",
    "            d_in=cfg[\"emb_dim\"],\n",
    "            d_out=cfg[\"emb_dim\"],\n",
    "            context_length=cfg[\"context_length\"],\n",
    "            num_heads=cfg[\"n_heads\"], \n",
    "            dropout=cfg[\"drop_rate\"],\n",
    "            qkv_bias=cfg[\"qkv_bias\"])\n",
    "        self.ff = FeedForward(cfg)\n",
    "        self.norm1 = LayerNorm(cfg[\"emb_dim\"])\n",
    "        self.norm2 = LayerNorm(cfg[\"emb_dim\"])\n",
    "        self.drop_shortcut = nn.Dropout(cfg[\"drop_rate\"])\n",
    "\n",
    "    def forward(self, x):\n",
    "        # Shortcut connection for attention block\n",
    "        shortcut = x\n",
    "        x = self.norm1(x)\n",
    "        x = self.att(x)  # Shape [batch_size, num_tokens, emb_size]\n",
    "        x = self.drop_shortcut(x)\n",
    "        x = x + shortcut  # Add the original input back\n",
    "\n",
    "        # Shortcut connection for feed forward block\n",
    "        shortcut = x\n",
    "        x = self.norm2(x)\n",
    "        x = self.ff(x)\n",
    "        x = self.drop_shortcut(x)\n",
    "        x = x + shortcut  # Add the original input back\n",
    "\n",
    "        return x"
   ]
  },
  {
   "cell_type": "code",
   "execution_count": 9,
   "metadata": {},
   "outputs": [],
   "source": [
    "class GPTModel(nn.Module):\n",
    "    def __init__(self, cfg):\n",
    "        super().__init__()\n",
    "        self.tok_emb = nn.Embedding(cfg[\"vocab_size\"], cfg[\"emb_dim\"])\n",
    "        self.pos_emb = nn.Embedding(cfg[\"context_length\"], cfg[\"emb_dim\"])\n",
    "        self.drop_emb = nn.Dropout(cfg[\"drop_rate\"])\n",
    "        \n",
    "        self.trf_blocks = nn.Sequential(\n",
    "            *[TransformerBlock(cfg) for _ in range(cfg[\"n_layers\"])])\n",
    "        \n",
    "        self.final_norm = LayerNorm(cfg[\"emb_dim\"])\n",
    "        self.out_head = nn.Linear(\n",
    "            cfg[\"emb_dim\"], cfg[\"vocab_size\"], bias=False\n",
    "        )\n",
    "\n",
    "    def forward(self, in_idx):\n",
    "        batch_size, seq_len = in_idx.shape\n",
    "        tok_embeds = self.tok_emb(in_idx)\n",
    "        pos_embeds = self.pos_emb(torch.arange(seq_len, device=in_idx.device))\n",
    "        x = tok_embeds + pos_embeds  # Shape [batch_size, num_tokens, emb_size]\n",
    "        x = self.drop_emb(x)\n",
    "        x = self.trf_blocks(x)\n",
    "        x = self.final_norm(x)\n",
    "        logits = self.out_head(x)\n",
    "        return logits"
   ]
  },
  {
   "cell_type": "code",
   "execution_count": 10,
   "metadata": {},
   "outputs": [],
   "source": [
    "#tokenizer = tiktoken.get_encoding(\"gpt2\")\n",
    "tokenizer = GPT2Tokenizer.from_pretrained(\"gpt2\")"
   ]
  },
  {
   "cell_type": "code",
   "execution_count": 11,
   "metadata": {},
   "outputs": [
    {
     "name": "stdout",
     "output_type": "stream",
     "text": [
      "tensor([[ 6109,  3626,  6100,   345],\n",
      "        [ 6109,  1110,  6622,   257],\n",
      "        [13300,   314,   460,   711]])\n"
     ]
    }
   ],
   "source": [
    "\n",
    "batch = []\n",
    "\n",
    "txt1 = \"Every effort moves you\"\n",
    "txt2 = \"Every day holds a\"\n",
    "txt3 = \"Maybe I can play\"\n",
    "\n",
    "batch.append(torch.tensor(tokenizer.encode(txt1)))\n",
    "batch.append(torch.tensor(tokenizer.encode(txt2)))\n",
    "batch.append(torch.tensor(tokenizer.encode(txt3)))\n",
    "batch = torch.stack(batch, dim=0)\n",
    "print(batch)"
   ]
  },
  {
   "cell_type": "code",
   "execution_count": 12,
   "metadata": {},
   "outputs": [],
   "source": [
    "model = GPTModel(GPT_CONFIG_124M)"
   ]
  },
  {
   "cell_type": "code",
   "execution_count": 13,
   "metadata": {},
   "outputs": [
    {
     "name": "stdout",
     "output_type": "stream",
     "text": [
      "Input batch:\n",
      " tensor([[ 6109,  3626,  6100,   345],\n",
      "        [ 6109,  1110,  6622,   257],\n",
      "        [13300,   314,   460,   711]])\n",
      "\n",
      "Output shape: torch.Size([3, 4, 50257])\n",
      "tensor([[[-0.1620, -0.1536,  0.0213,  ...,  0.1203, -0.6179,  0.1169],\n",
      "         [ 0.2378, -0.4336,  0.8639,  ..., -0.6176, -1.0692,  0.4272],\n",
      "         [ 0.5458, -0.2930, -0.3446,  ..., -0.2180, -0.5731, -0.4150],\n",
      "         [ 0.1631,  0.4854,  0.2531,  ...,  0.2517,  0.2439,  0.2959]],\n",
      "\n",
      "        [[-0.7108, -0.4756, -0.0811,  ..., -0.4689, -0.5025,  0.0085],\n",
      "         [ 0.2073, -1.4885,  1.2541,  ..., -0.9367, -0.7631,  0.2164],\n",
      "         [-0.6036, -0.1086, -0.1497,  ..., -0.2940, -0.3618,  0.3962],\n",
      "         [-0.1072,  1.1772,  0.6442,  ..., -0.5448, -0.2867, -0.4979]],\n",
      "\n",
      "        [[-0.0424, -0.9875,  0.2408,  ..., -0.1259,  0.2690, -0.6718],\n",
      "         [ 0.0060, -0.3566,  0.8238,  ..., -1.6891, -0.6693, -1.0834],\n",
      "         [ 0.2623, -0.4233, -0.2943,  ..., -0.9254, -0.5306, -0.3228],\n",
      "         [ 0.1515,  0.6342,  0.6903,  ..., -0.2968,  0.8041, -0.1787]]],\n",
      "       grad_fn=<UnsafeViewBackward0>)\n"
     ]
    }
   ],
   "source": [
    "out = model(batch)\n",
    "print(\"Input batch:\\n\", batch)\n",
    "print(\"\\nOutput shape:\", out.shape)\n",
    "print(out)"
   ]
  },
  {
   "cell_type": "code",
   "execution_count": 14,
   "metadata": {},
   "outputs": [
    {
     "data": {
      "text/plain": [
       "tensor(42859)"
      ]
     },
     "execution_count": 14,
     "metadata": {},
     "output_type": "execute_result"
    }
   ],
   "source": [
    "#torch.nn.functional.softmax(out[0][0]).argmax()\n",
    "out[0][3].argmax()\n"
   ]
  },
  {
   "cell_type": "code",
   "execution_count": 15,
   "metadata": {},
   "outputs": [
    {
     "data": {
      "text/plain": [
       "'Every effort moves you Mau'"
      ]
     },
     "execution_count": 15,
     "metadata": {},
     "output_type": "execute_result"
    }
   ],
   "source": [
    "tokenizer.decode(batch[0].tolist() + [28931])"
   ]
  },
  {
   "cell_type": "code",
   "execution_count": 16,
   "metadata": {},
   "outputs": [
    {
     "data": {
      "text/plain": [
       "'ĠMau'"
      ]
     },
     "execution_count": 16,
     "metadata": {},
     "output_type": "execute_result"
    }
   ],
   "source": [
    "tokenizer.convert_ids_to_tokens(28931)"
   ]
  },
  {
   "cell_type": "code",
   "execution_count": 17,
   "metadata": {},
   "outputs": [],
   "source": [
    "gpt2_hf=GPT2LMHeadModel.from_pretrained('gpt2')\n"
   ]
  },
  {
   "cell_type": "raw",
   "metadata": {
    "vscode": {
     "languageId": "raw"
    }
   },
   "source": [
    "state=gpt2_hf.state_dict()\n",
    "for k,v in state.items():\n",
    "    print(k,v.shape)"
   ]
  },
  {
   "cell_type": "code",
   "execution_count": 18,
   "metadata": {},
   "outputs": [],
   "source": [
    "from_to = {'transformer.wte.weight': 'tok_emb.weight',\n",
    "           'transformer.wpe.weight': 'pos_emb.weight',\n",
    "           'transformer.h.#.ln_1.weight': 'trf_blocks.{num}.norm1.scale',\n",
    "           'transformer.h.#.ln_1.bias': 'trf_blocks.{num}.norm1.shift',\n",
    "           'transformer.h.#.ln_2.weight': 'trf_blocks.{num}.norm2.scale',\n",
    "           'transformer.h.#.ln_2.bias': 'trf_blocks.{num}.norm2.shift',\n",
    "           'transformer.h.#.attn.c_attn.weight': 'trf_blocks.{num}.att.W_query.weight,trf_blocks.{num}.att.W_key.weight,trf_blocks.{num}.att.W_value.weight',\n",
    "           'transformer.h.#.attn.c_attn.bias': 'trf_blocks.{num}.att.W_query.bias,trf_blocks.{num}.att.W_key.bias,trf_blocks.{num}.att.W_value.bias',\n",
    "           'transformer.h.#.attn.c_proj.weight': 'trf_blocks.{num}.att.out_proj.weight',\n",
    "           'transformer.h.#.attn.c_proj.bias': 'trf_blocks.{num}.att.out_proj.bias',\n",
    "           'transformer.h.#.mlp.c_proj.weight': 'trf_blocks.{num}.ff.layers.0.weight',\n",
    "           'transformer.h.#.mlp.c_fc.bias': 'trf_blocks.{num}.ff.layers.0.bias',\n",
    "           'transformer.h.#.mlp.c_fc.weight': 'trf_blocks.{num}.ff.layers.2.weight',\n",
    "           'transformer.h.#.mlp.c_proj.bias': 'trf_blocks.{num}.ff.layers.2.bias'\n",
    "}"
   ]
  },
  {
   "cell_type": "code",
   "execution_count": 19,
   "metadata": {},
   "outputs": [],
   "source": [
    "state=gpt2_hf.state_dict()\n",
    "state_model=model.state_dict()\n",
    "for k,v in state.items():\n",
    "    if k == 'transformer.wte.weight' or k == 'transformer.wpe.weight':\n",
    "        state_model[from_to[k]] = state[k]\n",
    "    else:\n",
    "        k_parts = k.split('.')\n",
    "        layer = -1\n",
    "        if len(k_parts) >= 3 and k_parts[2] and re.search(pattern=r'^[0-9]*$', string=k_parts[2]):\n",
    "            layer = k_parts[2]\n",
    "            k_parts[2] = '#'\n",
    "            key = '.'.join(k_parts)\n",
    "            if key == 'transformer.h.#.attn.c_attn.weight' or key == 'transformer.h.#.attn.c_attn.bias':\n",
    "                if key == 'transformer.h.#.attn.c_attn.weight':\n",
    "                    wq = state[k][:,:768]\n",
    "                    wk = state[k][:,768:1536]\n",
    "                    wv = state[k][:,1536:]\n",
    "                else:\n",
    "                    wq = state[k][:768]\n",
    "                    wk = state[k][768:1536]\n",
    "                    wv = state[k][1536:]\n",
    "                q, k, v = from_to[key].format(num=layer).split(',')\n",
    "                state_model[q] = wq\n",
    "                state_model[k] = wk\n",
    "                state_model[v] = wv\n",
    "            elif from_to[key] != None:\n",
    "                aux = from_to[key].format(num=layer)\n",
    "                if state_model[aux].shape != state[k].shape:\n",
    "                    print(f\"state {k} shape {state[k].shape} doesn't match for {aux} shape {state_model[aux].shape}\")\n",
    "                state_model[aux] = state[k]\n",
    "                "
   ]
  },
  {
   "cell_type": "raw",
   "metadata": {
    "vscode": {
     "languageId": "raw"
    }
   },
   "source": [
    "state_model=model.state_dict()\n",
    "for k,v in state_model.items():\n",
    "    print(k,v.shape)"
   ]
  },
  {
   "cell_type": "code",
   "execution_count": 20,
   "metadata": {},
   "outputs": [
    {
     "data": {
      "text/plain": [
       "<All keys matched successfully>"
      ]
     },
     "execution_count": 20,
     "metadata": {},
     "output_type": "execute_result"
    }
   ],
   "source": [
    "model_l_gpt = GPTModel(GPT_CONFIG_124M)\n",
    "model_l_gpt.load_state_dict(state_dict=state_model)"
   ]
  },
  {
   "cell_type": "code",
   "execution_count": 21,
   "metadata": {},
   "outputs": [
    {
     "name": "stdout",
     "output_type": "stream",
     "text": [
      "Input batch:\n",
      " tensor([[ 6109,  3626,  6100,   345],\n",
      "        [ 6109,  1110,  6622,   257],\n",
      "        [13300,   314,   460,   711]])\n",
      "\n",
      "Output shape: torch.Size([3, 4, 50257])\n",
      "tensor([[[ 0.6479,  0.9707, -0.9463,  ...,  0.2582, -0.0445, -0.3961],\n",
      "         [ 0.6426,  1.0785, -0.5724,  ...,  0.1798, -0.0712, -0.5809],\n",
      "         [ 0.7752,  0.9119, -0.8367,  ...,  0.1895,  0.2619, -0.2685],\n",
      "         [ 0.7623,  0.8234, -0.6329,  ...,  0.3118, -0.1573, -0.3144]],\n",
      "\n",
      "        [[ 0.5088,  0.6469, -0.5768,  ...,  0.0763, -0.1776, -0.4279],\n",
      "         [ 0.4766,  1.1971, -0.5281,  ...,  0.2422, -0.1572, -0.3219],\n",
      "         [ 0.4866,  0.9178, -0.5437,  ...,  0.3098,  0.0449, -0.1670],\n",
      "         [ 0.6686,  0.7945, -0.4299,  ...,  0.3233, -0.1356, -0.1838]],\n",
      "\n",
      "        [[ 0.5043,  0.9663, -0.4431,  ...,  0.4530, -0.0148, -0.3048],\n",
      "         [ 0.6974,  0.7910, -0.5590,  ...,  0.2802, -0.0105, -0.0449],\n",
      "         [ 0.6637,  0.8252, -0.4999,  ...,  0.1851, -0.1403, -0.3076],\n",
      "         [ 0.4755,  1.0479, -0.5186,  ...,  0.3210,  0.0125, -0.4157]]],\n",
      "       grad_fn=<UnsafeViewBackward0>)\n"
     ]
    }
   ],
   "source": [
    "out = model_l_gpt(batch)\n",
    "print(\"Input batch:\\n\", batch)\n",
    "print(\"\\nOutput shape:\", out.shape)\n",
    "print(out)\n"
   ]
  },
  {
   "cell_type": "code",
   "execution_count": 22,
   "metadata": {},
   "outputs": [
    {
     "data": {
      "text/plain": [
       "tensor(39178)"
      ]
     },
     "execution_count": 22,
     "metadata": {},
     "output_type": "execute_result"
    }
   ],
   "source": [
    "next = torch.nn.functional.softmax(out[0][3], dim=0).argmax()\n",
    "next"
   ]
  },
  {
   "cell_type": "code",
   "execution_count": 23,
   "metadata": {},
   "outputs": [
    {
     "data": {
      "text/plain": [
       "'Every effort moves you loopholes'"
      ]
     },
     "execution_count": 23,
     "metadata": {},
     "output_type": "execute_result"
    }
   ],
   "source": [
    "tokenizer.decode(batch[0].tolist() + [next])"
   ]
  },
  {
   "cell_type": "code",
   "execution_count": 24,
   "metadata": {},
   "outputs": [
    {
     "data": {
      "text/plain": [
       "tensor(29609)"
      ]
     },
     "execution_count": 24,
     "metadata": {},
     "output_type": "execute_result"
    }
   ],
   "source": [
    "next = torch.nn.functional.softmax(out[1][3], dim=0).argmax()\n",
    "next"
   ]
  },
  {
   "cell_type": "code",
   "execution_count": 25,
   "metadata": {},
   "outputs": [
    {
     "data": {
      "text/plain": [
       "'Every day holds acrypt'"
      ]
     },
     "execution_count": 25,
     "metadata": {},
     "output_type": "execute_result"
    }
   ],
   "source": [
    "tokenizer.decode(batch[1].tolist() + [next])"
   ]
  },
  {
   "cell_type": "code",
   "execution_count": 26,
   "metadata": {},
   "outputs": [
    {
     "data": {
      "text/plain": [
       "tensor(29609)"
      ]
     },
     "execution_count": 26,
     "metadata": {},
     "output_type": "execute_result"
    }
   ],
   "source": [
    "next = torch.nn.functional.softmax(out[2][3], dim=0).argmax()\n",
    "next"
   ]
  },
  {
   "cell_type": "code",
   "execution_count": 27,
   "metadata": {},
   "outputs": [
    {
     "data": {
      "text/plain": [
       "'Maybe I can playcrypt'"
      ]
     },
     "execution_count": 27,
     "metadata": {},
     "output_type": "execute_result"
    }
   ],
   "source": [
    "tokenizer.decode(batch[2].tolist() + [next])"
   ]
  }
 ],
 "metadata": {
  "kernelspec": {
   "display_name": "atv1",
   "language": "python",
   "name": "python3"
  },
  "language_info": {
   "codemirror_mode": {
    "name": "ipython",
    "version": 3
   },
   "file_extension": ".py",
   "mimetype": "text/x-python",
   "name": "python",
   "nbconvert_exporter": "python",
   "pygments_lexer": "ipython3",
   "version": "3.12.4"
  }
 },
 "nbformat": 4,
 "nbformat_minor": 2
}
