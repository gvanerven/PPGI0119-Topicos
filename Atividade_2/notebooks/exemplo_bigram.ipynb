{
 "cells": [
  {
   "cell_type": "code",
   "execution_count": 1,
   "metadata": {},
   "outputs": [],
   "source": [
    "%load_ext autoreload\n",
    "%autoreload 2\n",
    "\n",
    "from tqdm.notebook import tqdm\n",
    "from BPE_PPGI.utils.jsondataset import JSONDataset\n",
    "from BIGRAM.bigram_base import BigramBase\n",
    "from transformers import AutoTokenizer\n",
    "import os\n",
    "import random\n",
    "import shutil\n",
    "import nltk\n",
    "import numpy as np\n"
   ]
  },
  {
   "cell_type": "code",
   "execution_count": null,
   "metadata": {},
   "outputs": [],
   "source": [
    "# Cálculo de perplexidade explícito. O restante foi colocado em arquivos do projeto\n",
    "def perplexity(model, dataset):\n",
    "    for text in dataset:\n",
    "        phrases = nltk.tokenize.sent_tokenize(text, language=\"portuguese\")\n",
    "        probs_frases = []\n",
    "        probs_frases_inf = []\n",
    "        for phrase in phrases:\n",
    "            probs = 1.0\n",
    "            count = 0\n",
    "            tokens = model.tokenizer.encode(phrase)\n",
    "            for i in range(1, len(tokens)):\n",
    "                probs = probs*1/model.sp_matrix_bigram_prob[tokens[i-1], tokens[i]]\n",
    "                count += 1\n",
    "            aux_prob = np.power(probs, (1/count))\n",
    "            if np.isinf(aux_prob):\n",
    "                probs_frases_inf.append(phrase)\n",
    "            else:\n",
    "                probs_frases.append(aux_prob)\n",
    "    return probs_frases, probs_frases_inf"
   ]
  },
  {
   "cell_type": "code",
   "execution_count": 2,
   "metadata": {},
   "outputs": [],
   "source": [
    "corpus_dir = os.path.join(os.path.abspath('.'), '..', '..', 'dados', 'corpus')\n",
    "train_dir = os.path.join(os.path.abspath('.'), '..', '..', 'dados', 'train')\n",
    "evaluation_dir = os.path.join(os.path.abspath('.'), '..', '..', 'dados', 'evaluation')\n",
    "test_dir = os.path.join(os.path.abspath('.'), '..', '..', 'dados', 'test')\n",
    "\n",
    "tokenizer_base_dir = os.path.join(os.path.abspath('.'), '..', '..', 'tokenizers')\n"
   ]
  },
  {
   "cell_type": "raw",
   "metadata": {
    "vscode": {
     "languageId": "raw"
    }
   },
   "source": [
    "# Separa entre treino, avaliação e teste\n",
    "train_c = 0\n",
    "eval_c = 0\n",
    "test_c = 0\n",
    "\n",
    "for file in os.listdir(corpus_dir):\n",
    "    if '.json' in file:\n",
    "        r = random.randint(1, 100)\n",
    "        if r > 40:\n",
    "            shutil.copyfile(os.path.join(corpus_dir, file), os.path.join(train_dir, file))\n",
    "            train_c += 1\n",
    "        elif r > 20:\n",
    "            shutil.copyfile(os.path.join(corpus_dir, file), os.path.join(evaluation_dir, file))\n",
    "            eval_c += 1\n",
    "        else:\n",
    "            shutil.copyfile(os.path.join(corpus_dir, file), os.path.join(test_dir, file))\n",
    "            test_c += 1\n",
    "\n",
    "print(\"train: \", train_c)\n",
    "print(\"eval: \", eval_c)\n",
    "print(\"test: \", test_c)"
   ]
  },
  {
   "cell_type": "code",
   "execution_count": 3,
   "metadata": {},
   "outputs": [],
   "source": [
    "train_ds = JSONDataset(train_dir)\n",
    "evaluation_ds = JSONDataset(evaluation_dir)\n",
    "test_ds = JSONDataset(test_dir)"
   ]
  },
  {
   "cell_type": "code",
   "execution_count": 4,
   "metadata": {},
   "outputs": [],
   "source": [
    "base_tokenizer = AutoTokenizer.from_pretrained(\"roberta-base\")\n"
   ]
  },
  {
   "cell_type": "code",
   "execution_count": 34,
   "metadata": {},
   "outputs": [
    {
     "name": "stdout",
     "output_type": "stream",
     "text": [
      "\n",
      "\n",
      "\n"
     ]
    },
    {
     "data": {
      "text/plain": [
       "('/home/gvanerven/code/PPGI0119-Topicos/Atividade_2/notebooks/../../tokenizers/tokenizer_roberta_base_300/tokenizer_config.json',\n",
       " '/home/gvanerven/code/PPGI0119-Topicos/Atividade_2/notebooks/../../tokenizers/tokenizer_roberta_base_300/special_tokens_map.json',\n",
       " '/home/gvanerven/code/PPGI0119-Topicos/Atividade_2/notebooks/../../tokenizers/tokenizer_roberta_base_300/vocab.json',\n",
       " '/home/gvanerven/code/PPGI0119-Topicos/Atividade_2/notebooks/../../tokenizers/tokenizer_roberta_base_300/merges.txt',\n",
       " '/home/gvanerven/code/PPGI0119-Topicos/Atividade_2/notebooks/../../tokenizers/tokenizer_roberta_base_300/added_tokens.json',\n",
       " '/home/gvanerven/code/PPGI0119-Topicos/Atividade_2/notebooks/../../tokenizers/tokenizer_roberta_base_300/tokenizer.json')"
      ]
     },
     "execution_count": 34,
     "metadata": {},
     "output_type": "execute_result"
    }
   ],
   "source": [
    "tokenizer_300 = base_tokenizer.train_new_from_iterator(train_ds, 300)\n",
    "tokenizer_300.save_pretrained(os.path.join(tokenizer_base_dir, 'tokenizer_roberta_base_300'))"
   ]
  },
  {
   "cell_type": "code",
   "execution_count": 35,
   "metadata": {},
   "outputs": [],
   "source": [
    "bg_300 = BigramBase(tokenizer=tokenizer_300)"
   ]
  },
  {
   "cell_type": "code",
   "execution_count": 36,
   "metadata": {},
   "outputs": [
    {
     "name": "stderr",
     "output_type": "stream",
     "text": [
      "  0%|          | 0/5957 [00:00<?, ?it/s]Token indices sequence length is longer than the specified maximum sequence length for this model (808 > 512). Running this sequence through the model will result in indexing errors\n",
      "100%|██████████| 5957/5957 [01:04<00:00, 92.34it/s] \n"
     ]
    },
    {
     "data": {
      "text/plain": [
       "<BIGRAM.bigram_base.BigramBase at 0x7fb367f8ea80>"
      ]
     },
     "execution_count": 36,
     "metadata": {},
     "output_type": "execute_result"
    }
   ],
   "source": [
    "bg_300.train(train_ds)"
   ]
  },
  {
   "cell_type": "code",
   "execution_count": 37,
   "metadata": {},
   "outputs": [
    {
     "name": "stderr",
     "output_type": "stream",
     "text": [
      "/tmp/ipykernel_40018/259248560.py:11: RuntimeWarning: overflow encountered in scalar divide\n",
      "  probs = probs*1/model.sp_matrix_bigram_prob[tokens[i-1], tokens[i]]\n"
     ]
    },
    {
     "name": "stdout",
     "output_type": "stream",
     "text": [
      "Mean:  26.85913944289181\n",
      "Std:  17.573890970622486\n",
      "Max:  261.25699462488825\n",
      "Min:  12.363841412238024\n",
      "Total INF 5\n",
      "Infs:  ['{{Info/Personagem animangá | nome = Son Goku | nome japonês = 孫悟空 | série = Dragon Ball | imagem = SonGoku.jpg | tamanho = 250px | legenda = Goku em sua infância e em sua fase adulta | nome-pt = | primeira = Dragon Ball: capítulo 1 Dragon Ball: episódio 1 | última = Dragon Ball Super: capítulo 76 Dragon Ball Super: episódio 131 | criador = Akira Toriyama | vozes = | outrosnomes = Kakarotto | sexo = Masculino | espécie = Saiyajin | local-nascimento = Planeta Vegeta | ocupação = Lutador de artes marciais Agricultor | família = Bardock Gine Raditz Son Gohan Chi-Chi Son Gohan Son Goten Videl Pan Rei Cutelo Goku Jr. | membro-de = Guerreiros Z|cor de fundo da célula=#FF4500|cor de fundo do título=#FF4500|cor do texto do título=#000|cor do texto da célula=#000}} , cujo nome de nascimento é , é o protagonista da franquia Dragon Ball, criada por Akira Toriyama.', 'A inspiração original foi o cinema de ação de Hong Kong, incluindo os filmes de Bruce Lee como Enter the Dragon (1973) e os de Jackie Chan como Zui Quan (1978) Toriyama disse que tinha um jovem Jackie Chan em mente quando imaginava Goku em live-action, afirmando que \"ninguém poderia interpretar Goku além dele\" Quando Akira decidiu criar Dragon Ball, ele usou o romance Jornada ao Oeste, de Wu Cheng\\'en, como inspiração.', 'Em sua jornada para o Planeta Namekusei para ajudar seus amigos a reunirem as Dragon Balls para assim reviverem os outros companheiros mortos pelos Saiyajins, Goku enfrenta o tirano galáctico Freeza, o qual foi responsável por destruir o planeta natal dos Saiyajins e extinguir quase toda a raça.', 'O personagem principal, Monkey Boy, representado por Chan Chi-Keung, é baseado em Goku.Créditos de dirigido por Joe Chan Jun-Leung, 1989 Ele também apareceu em outro filme não oficial de 1990, desta vez sul-coreano, intitulado Dragon Ball: Ssawora Son Goku, Igyeora Son Goku, onde foi retratado por Heo Seong-Tae.Créditos de , 1990 Em 2009, Goku apareceu em Dragon Ball Evolution produzido pela 20th Century Fox, interpretado por Justin Chatwin.', 'Categoria:Personagens de Dragon Ball Categoria:Personagens que podem voar Categoria:Artistas marciais fictícios Categoria:Personagens que podem se teletransportar Categoria:Personagens humanos extraterrestres Categoria:Protagonistas Categoria:Órfãos fictícios Categoria:Manipuladores de Ki na ficção Categoria:Personagens de anime e mangá com força sobre-humana Categoria:Personagens de anime e mangá que podem se mover em velocidades sobre-humanas Categoria:Personagens amputados na ficção Categoria:Personagens que fazem fusão em Dragon Ball Categoria:Crianças selvagens fictícias Categoria:Praticantes de Bōjutsu fictícios']\n"
     ]
    }
   ],
   "source": [
    "p, c = perplexity(bg_300, evaluation_ds)\n",
    "print(\"Mean: \", np.mean(p))\n",
    "print(\"Std: \", np.std(p))\n",
    "print(\"Max: \", np.max(p))\n",
    "print(\"Min: \", np.min(p))\n",
    "print(\"Total INF\", len(c))\n",
    "print(\"Infs: \", c)"
   ]
  },
  {
   "cell_type": "code",
   "execution_count": 23,
   "metadata": {},
   "outputs": [
    {
     "name": "stdout",
     "output_type": "stream",
     "text": [
      "\n",
      "\n",
      "\n"
     ]
    },
    {
     "data": {
      "text/plain": [
       "('/home/gvanerven/code/PPGI0119-Topicos/Atividade_2/notebooks/../../tokenizers/tokenizer_roberta_base_500/tokenizer_config.json',\n",
       " '/home/gvanerven/code/PPGI0119-Topicos/Atividade_2/notebooks/../../tokenizers/tokenizer_roberta_base_500/special_tokens_map.json',\n",
       " '/home/gvanerven/code/PPGI0119-Topicos/Atividade_2/notebooks/../../tokenizers/tokenizer_roberta_base_500/vocab.json',\n",
       " '/home/gvanerven/code/PPGI0119-Topicos/Atividade_2/notebooks/../../tokenizers/tokenizer_roberta_base_500/merges.txt',\n",
       " '/home/gvanerven/code/PPGI0119-Topicos/Atividade_2/notebooks/../../tokenizers/tokenizer_roberta_base_500/added_tokens.json',\n",
       " '/home/gvanerven/code/PPGI0119-Topicos/Atividade_2/notebooks/../../tokenizers/tokenizer_roberta_base_500/tokenizer.json')"
      ]
     },
     "execution_count": 23,
     "metadata": {},
     "output_type": "execute_result"
    }
   ],
   "source": [
    "tokenizer_500 = base_tokenizer.train_new_from_iterator(train_ds, 500)\n",
    "tokenizer_500.save_pretrained(os.path.join(tokenizer_base_dir, 'tokenizer_roberta_base_500'))"
   ]
  },
  {
   "cell_type": "code",
   "execution_count": 5,
   "metadata": {},
   "outputs": [],
   "source": [
    "tokenizer_500 = AutoTokenizer.from_pretrained(os.path.join(tokenizer_base_dir, 'tokenizer_roberta_base_500'))"
   ]
  },
  {
   "cell_type": "code",
   "execution_count": null,
   "metadata": {},
   "outputs": [],
   "source": [
    "bg_500 = BigramBase(tokenizer=tokenizer_500)\n"
   ]
  },
  {
   "cell_type": "code",
   "execution_count": null,
   "metadata": {},
   "outputs": [
    {
     "name": "stderr",
     "output_type": "stream",
     "text": [
      "  0%|          | 0/5957 [00:00<?, ?it/s]Token indices sequence length is longer than the specified maximum sequence length for this model (554 > 512). Running this sequence through the model will result in indexing errors\n",
      "100%|██████████| 5957/5957 [01:16<00:00, 77.57it/s] \n"
     ]
    },
    {
     "data": {
      "text/plain": [
       "<BIGRAM.bigram_base.BigramBase at 0x7fb36c5666f0>"
      ]
     },
     "execution_count": 8,
     "metadata": {},
     "output_type": "execute_result"
    }
   ],
   "source": [
    "bg_500.train(train_ds)"
   ]
  },
  {
   "cell_type": "code",
   "execution_count": null,
   "metadata": {},
   "outputs": [
    {
     "name": "stderr",
     "output_type": "stream",
     "text": [
      "/tmp/ipykernel_40018/259248560.py:11: RuntimeWarning: overflow encountered in scalar divide\n",
      "  probs = probs*1/model.sp_matrix_bigram_prob[tokens[i-1], tokens[i]]\n"
     ]
    },
    {
     "name": "stdout",
     "output_type": "stream",
     "text": [
      "Mean:  52.57370865281882\n",
      "Std:  19.53882323699025\n",
      "Max:  228.72862657470495\n",
      "Min:  14.349397728027562\n",
      "Total INF 4\n",
      "Infs:  ['{{Info/Personagem animangá | nome = Son Goku | nome japonês = 孫悟空 | série = Dragon Ball | imagem = SonGoku.jpg | tamanho = 250px | legenda = Goku em sua infância e em sua fase adulta | nome-pt = | primeira = Dragon Ball: capítulo 1 Dragon Ball: episódio 1 | última = Dragon Ball Super: capítulo 76 Dragon Ball Super: episódio 131 | criador = Akira Toriyama | vozes = | outrosnomes = Kakarotto | sexo = Masculino | espécie = Saiyajin | local-nascimento = Planeta Vegeta | ocupação = Lutador de artes marciais Agricultor | família = Bardock Gine Raditz Son Gohan Chi-Chi Son Gohan Son Goten Videl Pan Rei Cutelo Goku Jr. | membro-de = Guerreiros Z|cor de fundo da célula=#FF4500|cor de fundo do título=#FF4500|cor do texto do título=#000|cor do texto da célula=#000}} , cujo nome de nascimento é , é o protagonista da franquia Dragon Ball, criada por Akira Toriyama.', 'A inspiração original foi o cinema de ação de Hong Kong, incluindo os filmes de Bruce Lee como Enter the Dragon (1973) e os de Jackie Chan como Zui Quan (1978) Toriyama disse que tinha um jovem Jackie Chan em mente quando imaginava Goku em live-action, afirmando que \"ninguém poderia interpretar Goku além dele\" Quando Akira decidiu criar Dragon Ball, ele usou o romance Jornada ao Oeste, de Wu Cheng\\'en, como inspiração.', 'O personagem principal, Monkey Boy, representado por Chan Chi-Keung, é baseado em Goku.Créditos de dirigido por Joe Chan Jun-Leung, 1989 Ele também apareceu em outro filme não oficial de 1990, desta vez sul-coreano, intitulado Dragon Ball: Ssawora Son Goku, Igyeora Son Goku, onde foi retratado por Heo Seong-Tae.Créditos de , 1990 Em 2009, Goku apareceu em Dragon Ball Evolution produzido pela 20th Century Fox, interpretado por Justin Chatwin.', 'Categoria:Personagens de Dragon Ball Categoria:Personagens que podem voar Categoria:Artistas marciais fictícios Categoria:Personagens que podem se teletransportar Categoria:Personagens humanos extraterrestres Categoria:Protagonistas Categoria:Órfãos fictícios Categoria:Manipuladores de Ki na ficção Categoria:Personagens de anime e mangá com força sobre-humana Categoria:Personagens de anime e mangá que podem se mover em velocidades sobre-humanas Categoria:Personagens amputados na ficção Categoria:Personagens que fazem fusão em Dragon Ball Categoria:Crianças selvagens fictícias Categoria:Praticantes de Bōjutsu fictícios']\n"
     ]
    }
   ],
   "source": [
    "p, c = perplexity(bg_500, evaluation_ds)\n",
    "print(\"Mean: \", np.mean(p))\n",
    "print(\"Std: \", np.std(p))\n",
    "print(\"Max: \", np.max(p))\n",
    "print(\"Min: \", np.min(p))\n",
    "print(\"Total INF\", len(c))\n",
    "print(\"Infs: \", c)\n"
   ]
  },
  {
   "cell_type": "code",
   "execution_count": 22,
   "metadata": {},
   "outputs": [
    {
     "name": "stdout",
     "output_type": "stream",
     "text": [
      "\n",
      "\n",
      "\n"
     ]
    },
    {
     "data": {
      "text/plain": [
       "('/home/gvanerven/code/PPGI0119-Topicos/Atividade_2/notebooks/../../tokenizers/tokenizer_roberta_base_1000/tokenizer_config.json',\n",
       " '/home/gvanerven/code/PPGI0119-Topicos/Atividade_2/notebooks/../../tokenizers/tokenizer_roberta_base_1000/special_tokens_map.json',\n",
       " '/home/gvanerven/code/PPGI0119-Topicos/Atividade_2/notebooks/../../tokenizers/tokenizer_roberta_base_1000/vocab.json',\n",
       " '/home/gvanerven/code/PPGI0119-Topicos/Atividade_2/notebooks/../../tokenizers/tokenizer_roberta_base_1000/merges.txt',\n",
       " '/home/gvanerven/code/PPGI0119-Topicos/Atividade_2/notebooks/../../tokenizers/tokenizer_roberta_base_1000/added_tokens.json',\n",
       " '/home/gvanerven/code/PPGI0119-Topicos/Atividade_2/notebooks/../../tokenizers/tokenizer_roberta_base_1000/tokenizer.json')"
      ]
     },
     "execution_count": 22,
     "metadata": {},
     "output_type": "execute_result"
    }
   ],
   "source": [
    "tokenizer_1000 = base_tokenizer.train_new_from_iterator(train_ds, 1000)\n",
    "tokenizer_1000.save_pretrained(os.path.join(tokenizer_base_dir, 'tokenizer_roberta_base_1000'))"
   ]
  },
  {
   "cell_type": "code",
   "execution_count": 23,
   "metadata": {},
   "outputs": [],
   "source": [
    "bg1000 = BigramBase(tokenizer=tokenizer_1000)"
   ]
  },
  {
   "cell_type": "code",
   "execution_count": 24,
   "metadata": {},
   "outputs": [
    {
     "name": "stderr",
     "output_type": "stream",
     "text": [
      "  0%|          | 0/5957 [00:00<?, ?it/s]Token indices sequence length is longer than the specified maximum sequence length for this model (1087 > 512). Running this sequence through the model will result in indexing errors\n",
      "100%|██████████| 5957/5957 [00:52<00:00, 113.56it/s]\n"
     ]
    },
    {
     "data": {
      "text/plain": [
       "<BIGRAM.bigram_base.BigramBase at 0x7fb367f75a90>"
      ]
     },
     "execution_count": 24,
     "metadata": {},
     "output_type": "execute_result"
    }
   ],
   "source": [
    "bg1000.train(train_ds)"
   ]
  },
  {
   "cell_type": "code",
   "execution_count": 25,
   "metadata": {},
   "outputs": [
    {
     "name": "stderr",
     "output_type": "stream",
     "text": [
      "/tmp/ipykernel_40018/259248560.py:11: RuntimeWarning: overflow encountered in scalar divide\n",
      "  probs = probs*1/model.sp_matrix_bigram_prob[tokens[i-1], tokens[i]]\n"
     ]
    },
    {
     "name": "stdout",
     "output_type": "stream",
     "text": [
      "Mean:  75.15271798585407\n",
      "Std:  31.937027090069783\n",
      "Max:  309.41055400942327\n",
      "Min:  21.421964513167623\n",
      "Total INF 4\n",
      "Infs:  ['{{Info/Personagem animangá | nome = Son Goku | nome japonês = 孫悟空 | série = Dragon Ball | imagem = SonGoku.jpg | tamanho = 250px | legenda = Goku em sua infância e em sua fase adulta | nome-pt = | primeira = Dragon Ball: capítulo 1 Dragon Ball: episódio 1 | última = Dragon Ball Super: capítulo 76 Dragon Ball Super: episódio 131 | criador = Akira Toriyama | vozes = | outrosnomes = Kakarotto | sexo = Masculino | espécie = Saiyajin | local-nascimento = Planeta Vegeta | ocupação = Lutador de artes marciais Agricultor | família = Bardock Gine Raditz Son Gohan Chi-Chi Son Gohan Son Goten Videl Pan Rei Cutelo Goku Jr. | membro-de = Guerreiros Z|cor de fundo da célula=#FF4500|cor de fundo do título=#FF4500|cor do texto do título=#000|cor do texto da célula=#000}} , cujo nome de nascimento é , é o protagonista da franquia Dragon Ball, criada por Akira Toriyama.', 'A inspiração original foi o cinema de ação de Hong Kong, incluindo os filmes de Bruce Lee como Enter the Dragon (1973) e os de Jackie Chan como Zui Quan (1978) Toriyama disse que tinha um jovem Jackie Chan em mente quando imaginava Goku em live-action, afirmando que \"ninguém poderia interpretar Goku além dele\" Quando Akira decidiu criar Dragon Ball, ele usou o romance Jornada ao Oeste, de Wu Cheng\\'en, como inspiração.', 'O personagem principal, Monkey Boy, representado por Chan Chi-Keung, é baseado em Goku.Créditos de dirigido por Joe Chan Jun-Leung, 1989 Ele também apareceu em outro filme não oficial de 1990, desta vez sul-coreano, intitulado Dragon Ball: Ssawora Son Goku, Igyeora Son Goku, onde foi retratado por Heo Seong-Tae.Créditos de , 1990 Em 2009, Goku apareceu em Dragon Ball Evolution produzido pela 20th Century Fox, interpretado por Justin Chatwin.', 'Categoria:Personagens de Dragon Ball Categoria:Personagens que podem voar Categoria:Artistas marciais fictícios Categoria:Personagens que podem se teletransportar Categoria:Personagens humanos extraterrestres Categoria:Protagonistas Categoria:Órfãos fictícios Categoria:Manipuladores de Ki na ficção Categoria:Personagens de anime e mangá com força sobre-humana Categoria:Personagens de anime e mangá que podem se mover em velocidades sobre-humanas Categoria:Personagens amputados na ficção Categoria:Personagens que fazem fusão em Dragon Ball Categoria:Crianças selvagens fictícias Categoria:Praticantes de Bōjutsu fictícios']\n"
     ]
    }
   ],
   "source": [
    "p, c = perplexity(bg1000, evaluation_ds)\n",
    "print(\"Mean: \", np.mean(p))\n",
    "print(\"Std: \", np.std(p))\n",
    "print(\"Max: \", np.max(p))\n",
    "print(\"Min: \", np.min(p))\n",
    "print(\"Total INF\", len(c))\n",
    "print(\"Infs: \", c)"
   ]
  },
  {
   "cell_type": "code",
   "execution_count": 26,
   "metadata": {},
   "outputs": [
    {
     "name": "stdout",
     "output_type": "stream",
     "text": [
      "\n",
      "\n",
      "\n"
     ]
    },
    {
     "data": {
      "text/plain": [
       "('/home/gvanerven/code/PPGI0119-Topicos/Atividade_2/notebooks/../../tokenizers/tokenizer_roberta_base_5000/tokenizer_config.json',\n",
       " '/home/gvanerven/code/PPGI0119-Topicos/Atividade_2/notebooks/../../tokenizers/tokenizer_roberta_base_5000/special_tokens_map.json',\n",
       " '/home/gvanerven/code/PPGI0119-Topicos/Atividade_2/notebooks/../../tokenizers/tokenizer_roberta_base_5000/vocab.json',\n",
       " '/home/gvanerven/code/PPGI0119-Topicos/Atividade_2/notebooks/../../tokenizers/tokenizer_roberta_base_5000/merges.txt',\n",
       " '/home/gvanerven/code/PPGI0119-Topicos/Atividade_2/notebooks/../../tokenizers/tokenizer_roberta_base_5000/added_tokens.json',\n",
       " '/home/gvanerven/code/PPGI0119-Topicos/Atividade_2/notebooks/../../tokenizers/tokenizer_roberta_base_5000/tokenizer.json')"
      ]
     },
     "execution_count": 26,
     "metadata": {},
     "output_type": "execute_result"
    }
   ],
   "source": [
    "tokenizer_5000 = base_tokenizer.train_new_from_iterator(train_ds, 5000)\n",
    "tokenizer_5000.save_pretrained(os.path.join(tokenizer_base_dir, 'tokenizer_roberta_base_5000'))"
   ]
  },
  {
   "cell_type": "code",
   "execution_count": 27,
   "metadata": {},
   "outputs": [],
   "source": [
    "bg5000 = BigramBase(tokenizer=tokenizer_5000)"
   ]
  },
  {
   "cell_type": "code",
   "execution_count": 28,
   "metadata": {},
   "outputs": [
    {
     "name": "stderr",
     "output_type": "stream",
     "text": [
      "  0%|          | 0/5957 [00:00<?, ?it/s]"
     ]
    },
    {
     "name": "stderr",
     "output_type": "stream",
     "text": [
      "Token indices sequence length is longer than the specified maximum sequence length for this model (1005 > 512). Running this sequence through the model will result in indexing errors\n",
      "100%|██████████| 5957/5957 [00:48<00:00, 123.17it/s]\n"
     ]
    },
    {
     "data": {
      "text/plain": [
       "<BIGRAM.bigram_base.BigramBase at 0x7fb367aa1cd0>"
      ]
     },
     "execution_count": 28,
     "metadata": {},
     "output_type": "execute_result"
    }
   ],
   "source": [
    "bg5000.train(train_ds)"
   ]
  },
  {
   "cell_type": "code",
   "execution_count": 29,
   "metadata": {},
   "outputs": [
    {
     "name": "stderr",
     "output_type": "stream",
     "text": [
      "/tmp/ipykernel_40018/259248560.py:11: RuntimeWarning: overflow encountered in scalar divide\n",
      "  probs = probs*1/model.sp_matrix_bigram_prob[tokens[i-1], tokens[i]]\n"
     ]
    },
    {
     "name": "stdout",
     "output_type": "stream",
     "text": [
      "Mean:  249.93045395911435\n",
      "Std:  115.0683796662662\n",
      "Max:  942.4493757442559\n",
      "Min:  44.920674797954305\n",
      "Total INF 4\n",
      "Infs:  ['{{Info/Personagem animangá | nome = Son Goku | nome japonês = 孫悟空 | série = Dragon Ball | imagem = SonGoku.jpg | tamanho = 250px | legenda = Goku em sua infância e em sua fase adulta | nome-pt = | primeira = Dragon Ball: capítulo 1 Dragon Ball: episódio 1 | última = Dragon Ball Super: capítulo 76 Dragon Ball Super: episódio 131 | criador = Akira Toriyama | vozes = | outrosnomes = Kakarotto | sexo = Masculino | espécie = Saiyajin | local-nascimento = Planeta Vegeta | ocupação = Lutador de artes marciais Agricultor | família = Bardock Gine Raditz Son Gohan Chi-Chi Son Gohan Son Goten Videl Pan Rei Cutelo Goku Jr. | membro-de = Guerreiros Z|cor de fundo da célula=#FF4500|cor de fundo do título=#FF4500|cor do texto do título=#000|cor do texto da célula=#000}} , cujo nome de nascimento é , é o protagonista da franquia Dragon Ball, criada por Akira Toriyama.', 'A inspiração original foi o cinema de ação de Hong Kong, incluindo os filmes de Bruce Lee como Enter the Dragon (1973) e os de Jackie Chan como Zui Quan (1978) Toriyama disse que tinha um jovem Jackie Chan em mente quando imaginava Goku em live-action, afirmando que \"ninguém poderia interpretar Goku além dele\" Quando Akira decidiu criar Dragon Ball, ele usou o romance Jornada ao Oeste, de Wu Cheng\\'en, como inspiração.', 'O personagem principal, Monkey Boy, representado por Chan Chi-Keung, é baseado em Goku.Créditos de dirigido por Joe Chan Jun-Leung, 1989 Ele também apareceu em outro filme não oficial de 1990, desta vez sul-coreano, intitulado Dragon Ball: Ssawora Son Goku, Igyeora Son Goku, onde foi retratado por Heo Seong-Tae.Créditos de , 1990 Em 2009, Goku apareceu em Dragon Ball Evolution produzido pela 20th Century Fox, interpretado por Justin Chatwin.', 'Categoria:Personagens de Dragon Ball Categoria:Personagens que podem voar Categoria:Artistas marciais fictícios Categoria:Personagens que podem se teletransportar Categoria:Personagens humanos extraterrestres Categoria:Protagonistas Categoria:Órfãos fictícios Categoria:Manipuladores de Ki na ficção Categoria:Personagens de anime e mangá com força sobre-humana Categoria:Personagens de anime e mangá que podem se mover em velocidades sobre-humanas Categoria:Personagens amputados na ficção Categoria:Personagens que fazem fusão em Dragon Ball Categoria:Crianças selvagens fictícias Categoria:Praticantes de Bōjutsu fictícios']\n"
     ]
    }
   ],
   "source": [
    "p, c = perplexity(bg5000, evaluation_ds)\n",
    "print(\"Mean: \", np.mean(p))\n",
    "print(\"Std: \", np.std(p))\n",
    "print(\"Max: \", np.max(p))\n",
    "print(\"Min: \", np.min(p))\n",
    "print(\"Total INF\", len(c))\n",
    "print(\"Infs: \", c)"
   ]
  },
  {
   "cell_type": "code",
   "execution_count": 30,
   "metadata": {},
   "outputs": [
    {
     "name": "stdout",
     "output_type": "stream",
     "text": [
      "\n",
      "\n",
      "\n"
     ]
    },
    {
     "data": {
      "text/plain": [
       "('/home/gvanerven/code/PPGI0119-Topicos/Atividade_2/notebooks/../../tokenizers/tokenizer_roberta_base_20_000/tokenizer_config.json',\n",
       " '/home/gvanerven/code/PPGI0119-Topicos/Atividade_2/notebooks/../../tokenizers/tokenizer_roberta_base_20_000/special_tokens_map.json',\n",
       " '/home/gvanerven/code/PPGI0119-Topicos/Atividade_2/notebooks/../../tokenizers/tokenizer_roberta_base_20_000/vocab.json',\n",
       " '/home/gvanerven/code/PPGI0119-Topicos/Atividade_2/notebooks/../../tokenizers/tokenizer_roberta_base_20_000/merges.txt',\n",
       " '/home/gvanerven/code/PPGI0119-Topicos/Atividade_2/notebooks/../../tokenizers/tokenizer_roberta_base_20_000/added_tokens.json',\n",
       " '/home/gvanerven/code/PPGI0119-Topicos/Atividade_2/notebooks/../../tokenizers/tokenizer_roberta_base_20_000/tokenizer.json')"
      ]
     },
     "execution_count": 30,
     "metadata": {},
     "output_type": "execute_result"
    }
   ],
   "source": [
    "tokenizer_20_000 = base_tokenizer.train_new_from_iterator(train_ds, 20_000)\n",
    "tokenizer_20_000.save_pretrained(os.path.join(tokenizer_base_dir, 'tokenizer_roberta_base_20_000'))"
   ]
  },
  {
   "cell_type": "code",
   "execution_count": 31,
   "metadata": {},
   "outputs": [],
   "source": [
    "bg20_000 = BigramBase(tokenizer=tokenizer_20_000)"
   ]
  },
  {
   "cell_type": "code",
   "execution_count": 32,
   "metadata": {},
   "outputs": [
    {
     "name": "stderr",
     "output_type": "stream",
     "text": [
      "  0%|          | 0/5957 [00:00<?, ?it/s]"
     ]
    },
    {
     "name": "stderr",
     "output_type": "stream",
     "text": [
      "Token indices sequence length is longer than the specified maximum sequence length for this model (663 > 512). Running this sequence through the model will result in indexing errors\n",
      "100%|██████████| 5957/5957 [00:49<00:00, 119.86it/s]\n"
     ]
    },
    {
     "data": {
      "text/plain": [
       "<BIGRAM.bigram_base.BigramBase at 0x7fb367f3e690>"
      ]
     },
     "execution_count": 32,
     "metadata": {},
     "output_type": "execute_result"
    }
   ],
   "source": [
    "bg20_000.train(train_ds)"
   ]
  },
  {
   "cell_type": "code",
   "execution_count": 33,
   "metadata": {},
   "outputs": [
    {
     "name": "stderr",
     "output_type": "stream",
     "text": [
      "/tmp/ipykernel_40018/259248560.py:11: RuntimeWarning: overflow encountered in scalar divide\n",
      "  probs = probs*1/model.sp_matrix_bigram_prob[tokens[i-1], tokens[i]]\n"
     ]
    },
    {
     "name": "stdout",
     "output_type": "stream",
     "text": [
      "Mean:  1238.8296391974575\n",
      "Std:  680.4011577803719\n",
      "Max:  4172.223368872158\n",
      "Min:  124.42976225928719\n",
      "Total INF 4\n",
      "Infs:  ['{{Info/Personagem animangá | nome = Son Goku | nome japonês = 孫悟空 | série = Dragon Ball | imagem = SonGoku.jpg | tamanho = 250px | legenda = Goku em sua infância e em sua fase adulta | nome-pt = | primeira = Dragon Ball: capítulo 1 Dragon Ball: episódio 1 | última = Dragon Ball Super: capítulo 76 Dragon Ball Super: episódio 131 | criador = Akira Toriyama | vozes = | outrosnomes = Kakarotto | sexo = Masculino | espécie = Saiyajin | local-nascimento = Planeta Vegeta | ocupação = Lutador de artes marciais Agricultor | família = Bardock Gine Raditz Son Gohan Chi-Chi Son Gohan Son Goten Videl Pan Rei Cutelo Goku Jr. | membro-de = Guerreiros Z|cor de fundo da célula=#FF4500|cor de fundo do título=#FF4500|cor do texto do título=#000|cor do texto da célula=#000}} , cujo nome de nascimento é , é o protagonista da franquia Dragon Ball, criada por Akira Toriyama.', 'A inspiração original foi o cinema de ação de Hong Kong, incluindo os filmes de Bruce Lee como Enter the Dragon (1973) e os de Jackie Chan como Zui Quan (1978) Toriyama disse que tinha um jovem Jackie Chan em mente quando imaginava Goku em live-action, afirmando que \"ninguém poderia interpretar Goku além dele\" Quando Akira decidiu criar Dragon Ball, ele usou o romance Jornada ao Oeste, de Wu Cheng\\'en, como inspiração.', 'O personagem principal, Monkey Boy, representado por Chan Chi-Keung, é baseado em Goku.Créditos de dirigido por Joe Chan Jun-Leung, 1989 Ele também apareceu em outro filme não oficial de 1990, desta vez sul-coreano, intitulado Dragon Ball: Ssawora Son Goku, Igyeora Son Goku, onde foi retratado por Heo Seong-Tae.Créditos de , 1990 Em 2009, Goku apareceu em Dragon Ball Evolution produzido pela 20th Century Fox, interpretado por Justin Chatwin.', 'Categoria:Personagens de Dragon Ball Categoria:Personagens que podem voar Categoria:Artistas marciais fictícios Categoria:Personagens que podem se teletransportar Categoria:Personagens humanos extraterrestres Categoria:Protagonistas Categoria:Órfãos fictícios Categoria:Manipuladores de Ki na ficção Categoria:Personagens de anime e mangá com força sobre-humana Categoria:Personagens de anime e mangá que podem se mover em velocidades sobre-humanas Categoria:Personagens amputados na ficção Categoria:Personagens que fazem fusão em Dragon Ball Categoria:Crianças selvagens fictícias Categoria:Praticantes de Bōjutsu fictícios']\n"
     ]
    }
   ],
   "source": [
    "p, c = perplexity(bg20_000, evaluation_ds)\n",
    "print(\"Mean: \", np.mean(p))\n",
    "print(\"Std: \", np.std(p))\n",
    "print(\"Max: \", np.max(p))\n",
    "print(\"Min: \", np.min(p))\n",
    "print(\"Total INF\", len(c))\n",
    "print(\"Infs: \", c)"
   ]
  },
  {
   "cell_type": "markdown",
   "metadata": {},
   "source": [
    "### Base de Teste"
   ]
  },
  {
   "cell_type": "code",
   "execution_count": 38,
   "metadata": {},
   "outputs": [
    {
     "name": "stderr",
     "output_type": "stream",
     "text": [
      "/tmp/ipykernel_40018/259248560.py:11: RuntimeWarning: overflow encountered in scalar divide\n",
      "  probs = probs*1/model.sp_matrix_bigram_prob[tokens[i-1], tokens[i]]\n"
     ]
    },
    {
     "name": "stdout",
     "output_type": "stream",
     "text": [
      "Mean:  19.554183843039578\n",
      "Std:  2.6084397052454245\n",
      "Max:  26.767784915886914\n",
      "Min:  15.780889171593806\n",
      "Total INF 2\n",
      "Infs:  ['{{Info/Município do Brasil | nome = Lindóia | nome_oficial = Município da Estância Hidromineral de Lindóia | preposição = de | foto = | leg_foto = Igreja Matriz de Nossa Senhora das Brotas | apelido = Capital Nacional da Água MineralPrefeitura de Lindóia | brasão = Brasao Lindoia SP.PNG | bandeira = Bandeira de Lindóia.jpg | link_brasão = | link_bandeira = | link_hino = | aniversário = 21 de março | fundação = | emancipação = | gentílico = lindoiano | lema = Aqua pura vita longa \"Água pura, vida longa\" | padroeiro = Nossa Senhora das Brotas | prefeito = Luciano Francisco de Godoi Lopes | partido = PSDB | fim_mandato = 2024 | mapa = SaoPaulo Municip Lindoia.svg | latP = S | latG = 22 | latM = 31 | latS = 22 | lonP = O | lonG = 46 | lonM = 39 | lonS = 00 | estado = São Paulo | região_intermediária = Campinas | data_região_intermediária = IBGE/2017 | região_imediata = Amparo | data_região_imediata = IBGE/2017 | região_metropolitana = | vizinhos = Águas de Lindóia, Serra Negra, Itapira e Socorro | dist_capital = 156 | dist_capital_ref = | capital_link = São Paulo (cidade) | área = 48.756 | área_ref = | população = 7014 | data_pop = Censo IBGE/2022 | altitude = 677 | clima = Tropical de Altitude | sigla_clima = Cwa | idh = 0.742 | data_idh = PNUD/2010 | pib = mil | data_pib = IBGE/2021 | pib_per_capita = 30018.14 | data_pib_per_capita = IBGE/2021 | site_prefeitura = lindoia.sp.gov.br | site_câmara = camaralindoia.sp.gov.br }} Lindoia é um município brasileiro do estado de São Paulo.', '=== Demografia === Dados do Censo - 2000 População total: 5.331 * Urbana: 4.716 * Rural: 615 * Homens: 2.690 * Mulheres: 2.641 Densidade demográfica (hab./km²): 109,69 Mortalidade infantil até 1 ano (por mil): 8,20 Expectativa de vida (anos): 75,97 Taxa de fecundidade (filhos por mulher): 1,85 Taxa de alfabetização: 91,10% Índice de Desenvolvimento Humano (IDH-M): 0,820 * IDH-M Renda: 0,757 * IDH-M Longevidade: 0,849 * IDH-M Educação: 0,853 (Fonte: IPEADATA) === Hidrografia === * Rio do Peixe, que faz parte da Bacia do Prata.']\n"
     ]
    }
   ],
   "source": [
    "# Aplicando no teste o bg_300\n",
    "p, c = perplexity(bg_300, test_ds)\n",
    "print(\"Mean: \", np.mean(p))\n",
    "print(\"Std: \", np.std(p))\n",
    "print(\"Max: \", np.max(p))\n",
    "print(\"Min: \", np.min(p))\n",
    "print(\"Total INF\", len(c))\n",
    "print(\"Infs: \", c)"
   ]
  }
 ],
 "metadata": {
  "kernelspec": {
   "display_name": "atv1",
   "language": "python",
   "name": "python3"
  },
  "language_info": {
   "codemirror_mode": {
    "name": "ipython",
    "version": 3
   },
   "file_extension": ".py",
   "mimetype": "text/x-python",
   "name": "python",
   "nbconvert_exporter": "python",
   "pygments_lexer": "ipython3",
   "version": "3.12.4"
  }
 },
 "nbformat": 4,
 "nbformat_minor": 2
}
