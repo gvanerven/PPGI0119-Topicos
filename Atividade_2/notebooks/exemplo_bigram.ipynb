{
 "cells": [
  {
   "cell_type": "code",
   "execution_count": 1,
   "metadata": {},
   "outputs": [],
   "source": [
    "%load_ext autoreload\n",
    "%autoreload 2\n",
    "\n",
    "from tqdm.notebook import tqdm\n",
    "from BPE_PPGI.utils.jsondataset import JSONDataset\n",
    "from BIGRAM.bigram_base import BigramBase\n",
    "from transformers import AutoTokenizer\n",
    "import os\n",
    "import random\n",
    "import shutil\n",
    "import nltk\n",
    "import numpy as np\n"
   ]
  },
  {
   "cell_type": "code",
   "execution_count": 2,
   "metadata": {},
   "outputs": [],
   "source": [
    "corpus_dir = os.path.join(os.path.abspath('.'), '..', '..', 'dados', 'corpus')\n",
    "train_dir = os.path.join(os.path.abspath('.'), '..', '..', 'dados', 'train')\n",
    "evaluation_dir = os.path.join(os.path.abspath('.'), '..', '..', 'dados', 'evaluation')\n",
    "test_dir = os.path.join(os.path.abspath('.'), '..', '..', 'dados', 'test')\n",
    "\n",
    "tokenizer_base_dir = os.path.join(os.path.abspath('.'), '..', '..', 'tokenizers')\n"
   ]
  },
  {
   "cell_type": "raw",
   "metadata": {
    "vscode": {
     "languageId": "raw"
    }
   },
   "source": [
    "train_c = 0\n",
    "eval_c = 0\n",
    "test_c = 0\n",
    "\n",
    "for file in os.listdir(corpus_dir):\n",
    "    if '.json' in file:\n",
    "        r = random.randint(1, 100)\n",
    "        if r > 40:\n",
    "            shutil.copyfile(os.path.join(corpus_dir, file), os.path.join(train_dir, file))\n",
    "            train_c += 1\n",
    "        elif r > 20:\n",
    "            shutil.copyfile(os.path.join(corpus_dir, file), os.path.join(evaluation_dir, file))\n",
    "            eval_c += 1\n",
    "        else:\n",
    "            shutil.copyfile(os.path.join(corpus_dir, file), os.path.join(test_dir, file))\n",
    "            test_c += 1\n",
    "\n",
    "print(\"train: \", train_c)\n",
    "print(\"eval: \", eval_c)\n",
    "print(\"test: \", test_c)"
   ]
  },
  {
   "cell_type": "code",
   "execution_count": 3,
   "metadata": {},
   "outputs": [],
   "source": [
    "train_ds = JSONDataset(train_dir)\n",
    "evaluation_ds = JSONDataset(evaluation_dir)\n",
    "test_ds = JSONDataset(test_dir)"
   ]
  },
  {
   "cell_type": "code",
   "execution_count": 4,
   "metadata": {},
   "outputs": [],
   "source": [
    "base_tokenizer = AutoTokenizer.from_pretrained(\"roberta-base\")\n"
   ]
  },
  {
   "cell_type": "code",
   "execution_count": 23,
   "metadata": {},
   "outputs": [
    {
     "name": "stdout",
     "output_type": "stream",
     "text": [
      "\n",
      "\n",
      "\n"
     ]
    },
    {
     "data": {
      "text/plain": [
       "('/home/gvanerven/code/PPGI0119-Topicos/Atividade_2/notebooks/../../tokenizers/tokenizer_roberta_base_500/tokenizer_config.json',\n",
       " '/home/gvanerven/code/PPGI0119-Topicos/Atividade_2/notebooks/../../tokenizers/tokenizer_roberta_base_500/special_tokens_map.json',\n",
       " '/home/gvanerven/code/PPGI0119-Topicos/Atividade_2/notebooks/../../tokenizers/tokenizer_roberta_base_500/vocab.json',\n",
       " '/home/gvanerven/code/PPGI0119-Topicos/Atividade_2/notebooks/../../tokenizers/tokenizer_roberta_base_500/merges.txt',\n",
       " '/home/gvanerven/code/PPGI0119-Topicos/Atividade_2/notebooks/../../tokenizers/tokenizer_roberta_base_500/added_tokens.json',\n",
       " '/home/gvanerven/code/PPGI0119-Topicos/Atividade_2/notebooks/../../tokenizers/tokenizer_roberta_base_500/tokenizer.json')"
      ]
     },
     "execution_count": 23,
     "metadata": {},
     "output_type": "execute_result"
    }
   ],
   "source": [
    "tokenizer_500 = base_tokenizer.train_new_from_iterator(train_ds, 500)\n",
    "tokenizer_500.save_pretrained(os.path.join(tokenizer_base_dir, 'tokenizer_roberta_base_500'))"
   ]
  },
  {
   "cell_type": "code",
   "execution_count": 4,
   "metadata": {},
   "outputs": [],
   "source": [
    "tokenizer_500 = AutoTokenizer.from_pretrained(os.path.join(tokenizer_base_dir, 'tokenizer_roberta_base_500'))"
   ]
  },
  {
   "cell_type": "code",
   "execution_count": 27,
   "metadata": {},
   "outputs": [],
   "source": [
    "bg = BigramBase(tokenizer=tokenizer_500)\n"
   ]
  },
  {
   "cell_type": "code",
   "execution_count": 28,
   "metadata": {},
   "outputs": [
    {
     "name": "stderr",
     "output_type": "stream",
     "text": [
      "  0%|          | 0/5957 [00:00<?, ?it/s]"
     ]
    },
    {
     "name": "stderr",
     "output_type": "stream",
     "text": [
      "100%|██████████| 5957/5957 [00:56<00:00, 104.86it/s]\n"
     ]
    },
    {
     "data": {
      "text/plain": [
       "<BIGRAM.bigram_base.BigramBase at 0x7f03aceead20>"
      ]
     },
     "execution_count": 28,
     "metadata": {},
     "output_type": "execute_result"
    }
   ],
   "source": [
    "bg.train(train_ds)"
   ]
  },
  {
   "cell_type": "code",
   "execution_count": 5,
   "metadata": {},
   "outputs": [],
   "source": [
    "def perplexity(model, dataset):\n",
    "    for text in dataset:\n",
    "        phrases = nltk.tokenize.sent_tokenize(text, language=\"portuguese\")\n",
    "        probs_frases = []\n",
    "        for phrase in phrases:\n",
    "            probs = 1.0\n",
    "            count = 0\n",
    "            tokens = model.tokenizer.encode(phrase)\n",
    "            for i in range(1, len(tokens)):\n",
    "                probs = probs*1/model.sp_matrix_bigram_prob[tokens[i-1], tokens[i]]\n",
    "                count += 1\n",
    "    \n",
    "            probs_frases.append(np.power(probs, (1/count)))\n",
    "    return probs_frases"
   ]
  },
  {
   "cell_type": "code",
   "execution_count": 68,
   "metadata": {},
   "outputs": [
    {
     "name": "stdout",
     "output_type": "stream",
     "text": [
      "14.349397728027562\n"
     ]
    }
   ],
   "source": [
    "print(np.min(p))"
   ]
  },
  {
   "cell_type": "code",
   "execution_count": 69,
   "metadata": {},
   "outputs": [
    {
     "name": "stderr",
     "output_type": "stream",
     "text": [
      "/tmp/ipykernel_5733/2001555136.py:10: RuntimeWarning: overflow encountered in scalar divide\n",
      "  probs = probs*1/model.sp_matrix_bigram_prob[tokens[i-1], tokens[i]]\n"
     ]
    },
    {
     "name": "stdout",
     "output_type": "stream",
     "text": [
      "14.349397728027562\n"
     ]
    }
   ],
   "source": [
    "p = perplexity(bg, evaluation_ds)\n",
    "print(np.min(p))\n"
   ]
  },
  {
   "cell_type": "code",
   "execution_count": null,
   "metadata": {},
   "outputs": [
    {
     "name": "stdout",
     "output_type": "stream",
     "text": [
      "\n",
      "\n",
      "\n"
     ]
    },
    {
     "data": {
      "text/plain": [
       "('/home/gvanerven/code/PPGI0119-Topicos/Atividade_2/notebooks/../../tokenizers/tokenizer_roberta_base_1000/tokenizer_config.json',\n",
       " '/home/gvanerven/code/PPGI0119-Topicos/Atividade_2/notebooks/../../tokenizers/tokenizer_roberta_base_1000/special_tokens_map.json',\n",
       " '/home/gvanerven/code/PPGI0119-Topicos/Atividade_2/notebooks/../../tokenizers/tokenizer_roberta_base_1000/vocab.json',\n",
       " '/home/gvanerven/code/PPGI0119-Topicos/Atividade_2/notebooks/../../tokenizers/tokenizer_roberta_base_1000/merges.txt',\n",
       " '/home/gvanerven/code/PPGI0119-Topicos/Atividade_2/notebooks/../../tokenizers/tokenizer_roberta_base_1000/added_tokens.json',\n",
       " '/home/gvanerven/code/PPGI0119-Topicos/Atividade_2/notebooks/../../tokenizers/tokenizer_roberta_base_1000/tokenizer.json')"
      ]
     },
     "execution_count": 43,
     "metadata": {},
     "output_type": "execute_result"
    }
   ],
   "source": [
    "tokenizer_1000 = base_tokenizer.train_new_from_iterator(train_ds, 1000)\n",
    "tokenizer_1000.save_pretrained(os.path.join(tokenizer_base_dir, 'tokenizer_roberta_base_1000'))"
   ]
  },
  {
   "cell_type": "code",
   "execution_count": 44,
   "metadata": {},
   "outputs": [],
   "source": [
    "bg1000 = BigramBase(tokenizer=tokenizer_1000)"
   ]
  },
  {
   "cell_type": "code",
   "execution_count": 45,
   "metadata": {},
   "outputs": [
    {
     "name": "stderr",
     "output_type": "stream",
     "text": [
      "  0%|          | 0/5957 [00:00<?, ?it/s]Token indices sequence length is longer than the specified maximum sequence length for this model (1087 > 512). Running this sequence through the model will result in indexing errors\n",
      "100%|██████████| 5957/5957 [00:55<00:00, 106.78it/s]\n"
     ]
    },
    {
     "data": {
      "text/plain": [
       "<BIGRAM.bigram_base.BigramBase at 0x7f03ac20faa0>"
      ]
     },
     "execution_count": 45,
     "metadata": {},
     "output_type": "execute_result"
    }
   ],
   "source": [
    "bg1000.train(train_ds)"
   ]
  },
  {
   "cell_type": "code",
   "execution_count": 70,
   "metadata": {},
   "outputs": [
    {
     "name": "stderr",
     "output_type": "stream",
     "text": [
      "/tmp/ipykernel_5733/2001555136.py:10: RuntimeWarning: overflow encountered in scalar divide\n",
      "  probs = probs*1/model.sp_matrix_bigram_prob[tokens[i-1], tokens[i]]\n"
     ]
    },
    {
     "name": "stdout",
     "output_type": "stream",
     "text": [
      "21.421964513167623\n"
     ]
    }
   ],
   "source": [
    "p = perplexity(bg1000, evaluation_ds)\n",
    "print(np.min(p))\n"
   ]
  },
  {
   "cell_type": "code",
   "execution_count": 49,
   "metadata": {},
   "outputs": [
    {
     "name": "stdout",
     "output_type": "stream",
     "text": [
      "\n",
      "\n",
      "\n"
     ]
    },
    {
     "data": {
      "text/plain": [
       "('/home/gvanerven/code/PPGI0119-Topicos/Atividade_2/notebooks/../../tokenizers/tokenizer_roberta_base_5000/tokenizer_config.json',\n",
       " '/home/gvanerven/code/PPGI0119-Topicos/Atividade_2/notebooks/../../tokenizers/tokenizer_roberta_base_5000/special_tokens_map.json',\n",
       " '/home/gvanerven/code/PPGI0119-Topicos/Atividade_2/notebooks/../../tokenizers/tokenizer_roberta_base_5000/vocab.json',\n",
       " '/home/gvanerven/code/PPGI0119-Topicos/Atividade_2/notebooks/../../tokenizers/tokenizer_roberta_base_5000/merges.txt',\n",
       " '/home/gvanerven/code/PPGI0119-Topicos/Atividade_2/notebooks/../../tokenizers/tokenizer_roberta_base_5000/added_tokens.json',\n",
       " '/home/gvanerven/code/PPGI0119-Topicos/Atividade_2/notebooks/../../tokenizers/tokenizer_roberta_base_5000/tokenizer.json')"
      ]
     },
     "execution_count": 49,
     "metadata": {},
     "output_type": "execute_result"
    }
   ],
   "source": [
    "tokenizer_5000 = base_tokenizer.train_new_from_iterator(train_ds, 5000)\n",
    "tokenizer_5000.save_pretrained(os.path.join(tokenizer_base_dir, 'tokenizer_roberta_base_5000'))"
   ]
  },
  {
   "cell_type": "code",
   "execution_count": 50,
   "metadata": {},
   "outputs": [],
   "source": [
    "bg5000 = BigramBase(tokenizer=tokenizer_5000)"
   ]
  },
  {
   "cell_type": "code",
   "execution_count": 51,
   "metadata": {},
   "outputs": [
    {
     "name": "stderr",
     "output_type": "stream",
     "text": [
      "  0%|          | 0/5957 [00:00<?, ?it/s]Token indices sequence length is longer than the specified maximum sequence length for this model (1005 > 512). Running this sequence through the model will result in indexing errors\n",
      "100%|██████████| 5957/5957 [00:51<00:00, 114.82it/s]\n"
     ]
    },
    {
     "data": {
      "text/plain": [
       "<BIGRAM.bigram_base.BigramBase at 0x7f03ac084710>"
      ]
     },
     "execution_count": 51,
     "metadata": {},
     "output_type": "execute_result"
    }
   ],
   "source": [
    "bg5000.train(train_ds)"
   ]
  },
  {
   "cell_type": "code",
   "execution_count": 71,
   "metadata": {},
   "outputs": [
    {
     "name": "stderr",
     "output_type": "stream",
     "text": [
      "/tmp/ipykernel_5733/2001555136.py:10: RuntimeWarning: overflow encountered in scalar divide\n",
      "  probs = probs*1/model.sp_matrix_bigram_prob[tokens[i-1], tokens[i]]\n"
     ]
    },
    {
     "name": "stdout",
     "output_type": "stream",
     "text": [
      "44.920674797954305\n"
     ]
    }
   ],
   "source": [
    "p = perplexity(bg5000, evaluation_ds)\n",
    "print(np.min(p))"
   ]
  },
  {
   "cell_type": "code",
   "execution_count": 7,
   "metadata": {},
   "outputs": [
    {
     "name": "stdout",
     "output_type": "stream",
     "text": [
      "\n",
      "\n",
      "\n"
     ]
    },
    {
     "data": {
      "text/plain": [
       "('/home/gvanerven/code/PPGI0119-Topicos/Atividade_2/notebooks/../../tokenizers/tokenizer_roberta_base_20_000/tokenizer_config.json',\n",
       " '/home/gvanerven/code/PPGI0119-Topicos/Atividade_2/notebooks/../../tokenizers/tokenizer_roberta_base_20_000/special_tokens_map.json',\n",
       " '/home/gvanerven/code/PPGI0119-Topicos/Atividade_2/notebooks/../../tokenizers/tokenizer_roberta_base_20_000/vocab.json',\n",
       " '/home/gvanerven/code/PPGI0119-Topicos/Atividade_2/notebooks/../../tokenizers/tokenizer_roberta_base_20_000/merges.txt',\n",
       " '/home/gvanerven/code/PPGI0119-Topicos/Atividade_2/notebooks/../../tokenizers/tokenizer_roberta_base_20_000/added_tokens.json',\n",
       " '/home/gvanerven/code/PPGI0119-Topicos/Atividade_2/notebooks/../../tokenizers/tokenizer_roberta_base_20_000/tokenizer.json')"
      ]
     },
     "execution_count": 7,
     "metadata": {},
     "output_type": "execute_result"
    }
   ],
   "source": [
    "tokenizer_20_000 = base_tokenizer.train_new_from_iterator(train_ds, 20_000)\n",
    "tokenizer_20_000.save_pretrained(os.path.join(tokenizer_base_dir, 'tokenizer_roberta_base_20_000'))"
   ]
  },
  {
   "cell_type": "code",
   "execution_count": 8,
   "metadata": {},
   "outputs": [],
   "source": [
    "bg20_000 = BigramBase(tokenizer=tokenizer_20_000)"
   ]
  },
  {
   "cell_type": "code",
   "execution_count": 9,
   "metadata": {},
   "outputs": [
    {
     "name": "stderr",
     "output_type": "stream",
     "text": [
      "  0%|          | 1/5957 [00:00<32:42,  3.04it/s]Token indices sequence length is longer than the specified maximum sequence length for this model (663 > 512). Running this sequence through the model will result in indexing errors\n",
      "100%|██████████| 5957/5957 [00:49<00:00, 119.67it/s]\n"
     ]
    },
    {
     "data": {
      "text/plain": [
       "<BIGRAM.bigram_base.BigramBase at 0x7f4b9ed00ef0>"
      ]
     },
     "execution_count": 9,
     "metadata": {},
     "output_type": "execute_result"
    }
   ],
   "source": [
    "bg20_000.train(train_ds)"
   ]
  },
  {
   "cell_type": "code",
   "execution_count": 10,
   "metadata": {},
   "outputs": [
    {
     "name": "stderr",
     "output_type": "stream",
     "text": [
      "/tmp/ipykernel_33180/2001555136.py:10: RuntimeWarning: overflow encountered in scalar divide\n",
      "  probs = probs*1/model.sp_matrix_bigram_prob[tokens[i-1], tokens[i]]\n"
     ]
    },
    {
     "name": "stdout",
     "output_type": "stream",
     "text": [
      "124.42976225928719\n"
     ]
    }
   ],
   "source": [
    "p = perplexity(bg20_000, evaluation_ds)\n",
    "print(np.min(p))"
   ]
  }
 ],
 "metadata": {
  "kernelspec": {
   "display_name": "atv1",
   "language": "python",
   "name": "python3"
  },
  "language_info": {
   "codemirror_mode": {
    "name": "ipython",
    "version": 3
   },
   "file_extension": ".py",
   "mimetype": "text/x-python",
   "name": "python",
   "nbconvert_exporter": "python",
   "pygments_lexer": "ipython3",
   "version": "3.12.4"
  }
 },
 "nbformat": 4,
 "nbformat_minor": 2
}
