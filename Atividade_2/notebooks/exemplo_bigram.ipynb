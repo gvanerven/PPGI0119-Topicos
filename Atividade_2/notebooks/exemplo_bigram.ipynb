{
 "cells": [
  {
   "cell_type": "code",
   "execution_count": 11,
   "metadata": {},
   "outputs": [
    {
     "name": "stdout",
     "output_type": "stream",
     "text": [
      "The autoreload extension is already loaded. To reload it, use:\n",
      "  %reload_ext autoreload\n"
     ]
    }
   ],
   "source": [
    "%load_ext autoreload\n",
    "%autoreload 2\n",
    "\n",
    "from tqdm.notebook import tqdm\n",
    "from BPE_PPGI.utils.jsondataset import JSONDataset\n",
    "from transformers import AutoTokenizer\n",
    "import os\n",
    "import random\n",
    "import shutil\n",
    "\n"
   ]
  },
  {
   "cell_type": "code",
   "execution_count": 15,
   "metadata": {},
   "outputs": [],
   "source": [
    "corpus_dir = os.path.join(os.path.abspath('.'), '..', '..', 'dados', 'corpus')\n",
    "train_dir = os.path.join(os.path.abspath('.'), '..', '..', 'dados', 'train')\n",
    "evaluation_dir = os.path.join(os.path.abspath('.'), '..', '..', 'dados', 'evaluation')\n",
    "test_dir = os.path.join(os.path.abspath('.'), '..', '..', 'dados', 'test')\n",
    "\n",
    "train_c = 0\n",
    "eval_c = 0\n",
    "test_c = 0\n",
    "\n",
    "for file in os.listdir(corpus_dir):\n",
    "    if '.json' in file:\n",
    "        r = random.randint(1, 100)\n",
    "        if r > 40:\n",
    "            shutil.copyfile(os.path.join(corpus_dir, file), os.path.join(train_dir, file))\n",
    "            train_c += 1\n",
    "        elif r > 20:\n",
    "            shutil.copyfile(os.path.join(corpus_dir, file), os.path.join(evaluation_dir, file))\n",
    "            eval_c += 1\n",
    "        else:\n",
    "            shutil.copyfile(os.path.join(corpus_dir, file), os.path.join(test_dir, file))\n",
    "            test_c += 1"
   ]
  },
  {
   "cell_type": "code",
   "execution_count": 17,
   "metadata": {},
   "outputs": [
    {
     "name": "stdout",
     "output_type": "stream",
     "text": [
      "train:  5957\n",
      "eval:  1999\n",
      "test:  2044\n"
     ]
    }
   ],
   "source": [
    "print(\"train: \", train_c)\n",
    "print(\"eval: \", eval_c)\n",
    "print(\"test: \", test_c)"
   ]
  },
  {
   "cell_type": "code",
   "execution_count": 18,
   "metadata": {},
   "outputs": [],
   "source": [
    "train_ds = JSONDataset(train_dir)\n",
    "evaluation_ds = JSONDataset(evaluation_dir)\n",
    "test_ds = JSONDataset(test_dir)"
   ]
  },
  {
   "cell_type": "code",
   "execution_count": 21,
   "metadata": {},
   "outputs": [],
   "source": [
    "base_tokenizer = AutoTokenizer.from_pretrained(\"roberta-base\")\n",
    "tokenizer_base_dir = os.path.join(os.path.abspath('.'), '..', '..', 'tokenizers')\n"
   ]
  },
  {
   "cell_type": "code",
   "execution_count": 23,
   "metadata": {},
   "outputs": [
    {
     "name": "stdout",
     "output_type": "stream",
     "text": [
      "\n",
      "\n",
      "\n"
     ]
    },
    {
     "data": {
      "text/plain": [
       "('/home/gvanerven/code/PPGI0119-Topicos/Atividade_2/notebooks/../../tokenizers/tokenizer_roberta_base_500/tokenizer_config.json',\n",
       " '/home/gvanerven/code/PPGI0119-Topicos/Atividade_2/notebooks/../../tokenizers/tokenizer_roberta_base_500/special_tokens_map.json',\n",
       " '/home/gvanerven/code/PPGI0119-Topicos/Atividade_2/notebooks/../../tokenizers/tokenizer_roberta_base_500/vocab.json',\n",
       " '/home/gvanerven/code/PPGI0119-Topicos/Atividade_2/notebooks/../../tokenizers/tokenizer_roberta_base_500/merges.txt',\n",
       " '/home/gvanerven/code/PPGI0119-Topicos/Atividade_2/notebooks/../../tokenizers/tokenizer_roberta_base_500/added_tokens.json',\n",
       " '/home/gvanerven/code/PPGI0119-Topicos/Atividade_2/notebooks/../../tokenizers/tokenizer_roberta_base_500/tokenizer.json')"
      ]
     },
     "execution_count": 23,
     "metadata": {},
     "output_type": "execute_result"
    }
   ],
   "source": [
    "tokenizer_500 = base_tokenizer.train_new_from_iterator(train_ds, 500)\n",
    "tokenizer_500.save_pretrained(os.path.join(tokenizer_base_dir, 'tokenizer_roberta_base_500'))"
   ]
  },
  {
   "cell_type": "code",
   "execution_count": 24,
   "metadata": {},
   "outputs": [],
   "source": [
    "tokenizer_500 = AutoTokenizer.from_pretrained(os.path.join(tokenizer_base_dir, 'tokenizer_roberta_base_500'))"
   ]
  },
  {
   "cell_type": "code",
   "execution_count": 25,
   "metadata": {},
   "outputs": [
    {
     "data": {
      "text/plain": [
       "['T', 'es', 'te', 'Ġde', 'Ġ', 'to', 'k', 'en', 'iz', 'aÃ§Ã£o']"
      ]
     },
     "execution_count": 25,
     "metadata": {},
     "output_type": "execute_result"
    }
   ],
   "source": [
    "tokenizer_500.tokenize(\"Teste de tokenização\")"
   ]
  }
 ],
 "metadata": {
  "kernelspec": {
   "display_name": "atv1",
   "language": "python",
   "name": "python3"
  },
  "language_info": {
   "codemirror_mode": {
    "name": "ipython",
    "version": 3
   },
   "file_extension": ".py",
   "mimetype": "text/x-python",
   "name": "python",
   "nbconvert_exporter": "python",
   "pygments_lexer": "ipython3",
   "version": "3.12.4"
  }
 },
 "nbformat": 4,
 "nbformat_minor": 2
}
